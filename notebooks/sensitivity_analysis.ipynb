{
 "cells": [
  {
   "cell_type": "code",
   "execution_count": 3,
   "metadata": {},
   "outputs": [],
   "source": [
    "import numpy as np\n",
    "import matplotlib.pyplot as plt\n",
    "import pandas as pd\n",
    "from scipy.special import expi\n",
    "from sklearn.metrics import mean_squared_error\n",
    "# import plotly.express as px\n",
    "# import plotly.io as pio\n",
    "# from plotly.subplots import make_subplots"
   ]
  },
  {
   "cell_type": "code",
   "execution_count": 4,
   "metadata": {},
   "outputs": [
    {
     "data": {
      "text/plain": [
       "'c:\\\\Users\\\\jacob\\\\OneDrive - University of Louisville\\\\Projects\\\\Dissertation\\\\PhaseI\\\\data_analysis\\\\TRANSONIC\\\\TRANSONIC\\\\notebooks'"
      ]
     },
     "execution_count": 4,
     "metadata": {},
     "output_type": "execute_result"
    }
   ],
   "source": [
    "import os\n",
    "os.getcwd()"
   ]
  },
  {
   "cell_type": "code",
   "execution_count": 4,
   "metadata": {},
   "outputs": [],
   "source": [
    "# Visualize distriubtion of LFR_DZ_CSTR parameters\n",
    "optimal_parameters_df = pd.read_csv(\n",
    "    '../results/LFR_DZ_CSTR/results/eval_outputs.csv', \n",
    "    index_col=0, \n",
    "    header=0\n",
    ")"
   ]
  },
  {
   "cell_type": "code",
   "execution_count": 18,
   "metadata": {},
   "outputs": [
    {
     "data": {
      "image/png": "[encoded data removed]",
      "text/plain": [
       "<Figure size 640x480 with 2 Axes>"
      ]
     },
     "metadata": {},
     "output_type": "display_data"
    }
   ],
   "source": [
    "#\n",
    "\n",
    "fig, ax = plt.subplots()\n",
    "ax.boxplot(\n",
    "    optimal_parameters_df['alpha'], \n",
    "    labels=['alpha'],\n",
    "    notch=False\n",
    ")\n",
    "\n",
    "ax2 = ax.twinx()\n",
    "\n",
    "ax2.boxplot(\n",
    "    optimal_parameters_df['beta'], \n",
    "    positions=[2], labels=['beta'],\n",
    "    notch=False\n",
    ")\n",
    "ax.set_ylabel('LFR Volume Fraction')\n",
    "ax2.set_ylabel('CSTR Volume Fraction', rotation=-90, labelpad=15)\n",
    "plt.show()"
   ]
  },
  {
   "cell_type": "code",
   "execution_count": 11,
   "metadata": {},
   "outputs": [
    {
     "data": {
      "application/vnd.plotly.v1+json": {
       "config": {
        "plotlyServerURL": "https://plot.ly"
       },
       "data": [
        {
         "alignmentgroup": "True",
         "boxpoints": "all",
         "hovertemplate": "variable=%{x}<br>value=%{y}<extra></extra>",
         "legendgroup": "",
         "line": {
          "color": "#636efa"
         },
         "marker": {
          "color": "#636efa"
         },
         "name": "",
         "notched": false,
         "offsetgroup": "",
         "orientation": "v",
         "showlegend": false,
         "type": "box",
         "x": [
          "alpha",
          "alpha",
          "alpha",
          "alpha",
          "alpha",
          "alpha",
          "alpha",
          "alpha",
          "alpha",
          "alpha",
          "alpha",
          "alpha",
          "alpha",
          "alpha",
          "alpha",
          "alpha",
          "alpha",
          "alpha",
          "alpha",
          "alpha",
          "alpha",
          "alpha",
          "alpha",
          "alpha",
          "alpha",
          "alpha",
          "alpha",
          "alpha",
          "alpha",
          "alpha",
          "alpha",
          "alpha",
          "alpha",
          "alpha",
          "alpha",
          "alpha",
          "alpha",
          "alpha",
          "alpha",
          "alpha",
          "alpha",
          "alpha",
          "alpha",
          "alpha",
          "alpha",
          "alpha",
          "alpha",
          "alpha",
          "alpha",
          "alpha",
          "alpha",
          "alpha",
          "alpha",
          "alpha",
          "alpha",
          "alpha",
          "alpha",
          "alpha",
          "alpha",
          "alpha",
          "alpha",
          "alpha",
          "alpha",
          "alpha",
          "alpha",
          "alpha",
          "alpha",
          "alpha",
          "alpha",
          "alpha",
          "alpha",
          "alpha",
          "alpha",
          "alpha",
          "alpha",
          "alpha",
          "alpha",
          "alpha",
          "alpha",
          "alpha",
          "alpha",
          "alpha",
          "alpha",
          "alpha",
          "alpha",
          "alpha",
          "alpha",
          "alpha",
          "alpha",
          "alpha",
          "alpha",
          "alpha",
          "alpha",
          "alpha",
          "alpha",
          "alpha",
          "alpha",
          "alpha",
          "alpha",
          "alpha",
          "alpha",
          "alpha",
          "alpha",
          "alpha",
          "alpha",
          "alpha",
          "alpha",
          "alpha",
          "alpha",
          "alpha",
          "alpha",
          "alpha",
          "alpha",
          "alpha",
          "alpha",
          "alpha",
          "alpha",
          "alpha",
          "alpha",
          "alpha",
          "alpha",
          "alpha",
          "alpha",
          "alpha",
          "alpha",
          "alpha",
          "alpha",
          "alpha",
          "alpha",
          "alpha",
          "alpha",
          "alpha",
          "alpha",
          "alpha",
          "alpha"
         ],
         "x0": " ",
         "xaxis": "x",
         "y": [
          0.8740131744610209,
          0.8739137076792864,
          0.8739995425577847,
          0.8733822719431229,
          0.8733202620852888,
          0.8736335735648741,
          0.8740051594136029,
          0.8744433747945439,
          0.8787265849545454,
          0.8792162686212717,
          0.8807471343540751,
          0.8856442191097373,
          0.8909579253994815,
          0.897110046573129,
          0.9029619502035212,
          0.8733541547130386,
          0.8738122817311795,
          0.8731818347504523,
          0.8727254802578589,
          0.8729074431868885,
          0.8727386414851028,
          0.8730718475447607,
          0.8743100187680627,
          0.8748668035146834,
          0.8789542965304471,
          0.8803780082371917,
          0.8853164599686772,
          0.8901412392526218,
          0.8970810112422194,
          0.90253790990993,
          0.869320101299178,
          0.8690995307222631,
          0.8688442476285939,
          0.8691447024234372,
          0.8685840433094298,
          0.8691898370006477,
          0.8688947450303819,
          0.8724212131561228,
          0.8736625310549382,
          0.8746178438089096,
          0.8797330230670173,
          0.884380278948834,
          0.8893106670953512,
          0.8953700454332808,
          0.9020442562173584,
          0.8260766446955795,
          0.7901513984069846,
          0.7540858087436224,
          0.7167808189788344,
          0.6702308275051955,
          0.608610407603916,
          0.5777479052770427,
          0.5811171306381493,
          0.5894458394016429,
          0.600800587306178,
          0.6204718242288311,
          0.6512295074314639,
          0.6968863138470309,
          0.7560932201589732,
          0.8216391683009524,
          0.8567126460394219,
          0.8197307452761071,
          0.7756125684166676,
          0.7345454217028653,
          0.6913710698173485,
          0.6336175307023649,
          0.5756630233862998,
          0.5671121091596031,
          0.5749974017176345,
          0.5861102095852302,
          0.6045461052158845,
          0.6352160002508065,
          0.6814949130161285,
          0.7420593660621712,
          0.8101747754297874,
          0.8615354233650718,
          0.8340922495549001,
          0.7858004470912825,
          0.738961275217476,
          0.6935427479232148,
          0.637150308073184,
          0.5734345592097319,
          0.558913470901168,
          0.5671790445855758,
          0.577795048607547,
          0.5962521771880617,
          0.6271818261152775,
          0.673822309295255,
          0.7338054952414526,
          0.8038012173733581,
          0.8788503961680307,
          0.8859899469898938,
          0.8900640720525035,
          0.8910227094255849,
          0.8963376866752857,
          0.9000899500084663,
          0.8993497050755903,
          0.8990190292289802,
          0.8923800927940357,
          0.8704903293009509,
          0.843705500837921,
          0.8097469236326732,
          0.6897107044095894,
          0.498421831619172,
          0.6333699962064818,
          0.8895099203337217,
          0.893679028382202,
          0.8945853808225023,
          0.8980145405385873,
          0.8991724304181288,
          0.8990042128180755,
          0.8999048087545675,
          0.895971551871007,
          0.8839302722941196,
          0.8635994307328382,
          0.8401024686743148,
          0.8083536974543988,
          0.725164705482038,
          0.4955666488390886,
          0.6153476967772309,
          0.893304499793144,
          0.896363396092022,
          0.8987828535579052,
          0.8991724304181288,
          0.9005178209813459,
          0.9007996362301836,
          0.899839452512992,
          0.8947550681614095,
          0.8787870639313462,
          0.8601112073877122,
          0.8349722190946434,
          0.8060506538483039,
          0.7370580595400789,
          0.4941604256475941,
          0.6083625978180127
         ],
         "y0": " ",
         "yaxis": "y"
        },
        {
         "alignmentgroup": "True",
         "boxpoints": "all",
         "hovertemplate": "variable=%{x}<br>value=%{y}<extra></extra>",
         "legendgroup": "",
         "line": {
          "color": "#636efa"
         },
         "marker": {
          "color": "#636efa"
         },
         "name": "",
         "notched": false,
         "offsetgroup": "",
         "orientation": "v",
         "showlegend": false,
         "type": "box",
         "x": [
          "beta",
          "beta",
          "beta",
          "beta",
          "beta",
          "beta",
          "beta",
          "beta",
          "beta",
          "beta",
          "beta",
          "beta",
          "beta",
          "beta",
          "beta",
          "beta",
          "beta",
          "beta",
          "beta",
          "beta",
          "beta",
          "beta",
          "beta",
          "beta",
          "beta",
          "beta",
          "beta",
          "beta",
          "beta",
          "beta",
          "beta",
          "beta",
          "beta",
          "beta",
          "beta",
          "beta",
          "beta",
          "beta",
          "beta",
          "beta",
          "beta",
          "beta",
          "beta",
          "beta",
          "beta",
          "beta",
          "beta",
          "beta",
          "beta",
          "beta",
          "beta",
          "beta",
          "beta",
          "beta",
          "beta",
          "beta",
          "beta",
          "beta",
          "beta",
          "beta",
          "beta",
          "beta",
          "beta",
          "beta",
          "beta",
          "beta",
          "beta",
          "beta",
          "beta",
          "beta",
          "beta",
          "beta",
          "beta",
          "beta",
          "beta",
          "beta",
          "beta",
          "beta",
          "beta",
          "beta",
          "beta",
          "beta",
          "beta",
          "beta",
          "beta",
          "beta",
          "beta",
          "beta",
          "beta",
          "beta",
          "beta",
          "beta",
          "beta",
          "beta",
          "beta",
          "beta",
          "beta",
          "beta",
          "beta",
          "beta",
          "beta",
          "beta",
          "beta",
          "beta",
          "beta",
          "beta",
          "beta",
          "beta",
          "beta",
          "beta",
          "beta",
          "beta",
          "beta",
          "beta",
          "beta",
          "beta",
          "beta",
          "beta",
          "beta",
          "beta",
          "beta",
          "beta",
          "beta",
          "beta",
          "beta",
          "beta",
          "beta",
          "beta",
          "beta",
          "beta",
          "beta",
          "beta",
          "beta",
          "beta",
          "beta"
         ],
         "x0": " ",
         "xaxis": "x",
         "y": [
          0.0528673529849635,
          0.0532888290192237,
          0.0537384769822747,
          0.0546828165474637,
          0.0556876771148438,
          0.0560726454215131,
          0.0571806407755379,
          0.0579796661943293,
          0.0570768891260219,
          0.0585316635525899,
          0.0595178340237263,
          0.0587997126820379,
          0.0584646521423729,
          0.0578778134693241,
          0.0579469616508343,
          0.0520429385521176,
          0.052461007398005,
          0.0535317985178956,
          0.0541028514455998,
          0.0551939726819561,
          0.0564196391657479,
          0.0570300793959059,
          0.0572470887713838,
          0.0584664310389705,
          0.0579407962973478,
          0.0588910255438805,
          0.0585091839817216,
          0.0584554030714102,
          0.0572262831463352,
          0.0577085281723364,
          0.0533623667766541,
          0.0538329662218875,
          0.0544985194916577,
          0.0553447947467495,
          0.0562014418683433,
          0.0570890819728102,
          0.0580340803600001,
          0.0572850802766963,
          0.0580815563564814,
          0.0594743853802194,
          0.0587965132295858,
          0.0582302920707797,
          0.0579468952062783,
          0.0577772872716377,
          0.0571589106782556,
          0.0921995664294194,
          0.0934905409523587,
          0.0955926346539154,
          0.0966601287452835,
          0.0962749774935686,
          0.0887023941591591,
          0.0579236706054161,
          0.0416081953491605,
          0.0424865550286147,
          0.0479607990910636,
          0.0521928296796197,
          0.0553731182400649,
          0.0538668902774144,
          0.047959167857056,
          0.0421835276560129,
          0.0892780689896724,
          0.0910866630137016,
          0.0937440939085187,
          0.0953144925748756,
          0.0961809114982712,
          0.0949419909268854,
          0.0762563895552305,
          0.0465201686410636,
          0.0423908590064788,
          0.0469058657714195,
          0.0529233419682747,
          0.0554941767347995,
          0.0544434664775833,
          0.0484484907612456,
          0.0429153949568978,
          0.0895689458077435,
          0.0911510384331945,
          0.0931845058480675,
          0.0958437761091076,
          0.0971480204621731,
          0.0970480028532898,
          0.0823162323071023,
          0.0498906899991612,
          0.0429046593114763,
          0.0472995722761368,
          0.0533236565156501,
          0.0561032294874469,
          0.055002974550775,
          0.0493861638621886,
          0.0423969459433578,
          0.1211425953848881,
          0.1140032318310191,
          0.1099223967762585,
          0.1089241396107834,
          0.103650474999216,
          0.0999056884405584,
          0.1006349577449832,
          0.1009714386080228,
          0.1064818894842867,
          0.1084912784606276,
          0.1103463293500764,
          0.1109444401999927,
          0.09305939281783,
          0.0313231834652375,
          0.0276014934310481,
          0.1104795876392619,
          0.1062668829036816,
          0.1054141337521921,
          0.1019618910958917,
          0.100825696694133,
          0.1009939780798387,
          0.1000794339019761,
          0.1039710899192475,
          0.1075519128237762,
          0.1101814931807453,
          0.113354921856871,
          0.1151853481543284,
          0.1021482424746506,
          0.0423681436838458,
          0.0268086707636457,
          0.106676731116244,
          0.1036199758453136,
          0.1012060447318521,
          0.100825696694133,
          0.0994743831919047,
          0.0991750963271575,
          0.1001556743659433,
          0.1051965339689162,
          0.1080601517767121,
          0.1105426970517025,
          0.114683457089669,
          0.1153425605249384,
          0.1057374369878574,
          0.0448934853062159,
          0.0272398662686327
         ],
         "y0": " ",
         "yaxis": "y2"
        }
       ],
       "layout": {
        "template": {
         "data": {
          "bar": [
           {
            "error_x": {
             "color": "#2a3f5f"
            },
            "error_y": {
             "color": "#2a3f5f"
            },
            "marker": {
             "line": {
              "color": "#E5ECF6",
              "width": 0.5
             },
             "pattern": {
              "fillmode": "overlay",
              "size": 10,
              "solidity": 0.2
             }
            },
            "type": "bar"
           }
          ],
          "barpolar": [
           {
            "marker": {
             "line": {
              "color": "#E5ECF6",
              "width": 0.5
             },
             "pattern": {
              "fillmode": "overlay",
              "size": 10,
              "solidity": 0.2
             }
            },
            "type": "barpolar"
           }
          ],
          "carpet": [
           {
            "aaxis": {
             "endlinecolor": "#2a3f5f",
             "gridcolor": "white",
             "linecolor": "white",
             "minorgridcolor": "white",
             "startlinecolor": "#2a3f5f"
            },
            "baxis": {
             "endlinecolor": "#2a3f5f",
             "gridcolor": "white",
             "linecolor": "white",
             "minorgridcolor": "white",
             "startlinecolor": "#2a3f5f"
            },
            "type": "carpet"
           }
          ],
          "choropleth": [
           {
            "colorbar": {
             "outlinewidth": 0,
             "ticks": ""
            },
            "type": "choropleth"
           }
          ],
          "contour": [
           {
            "colorbar": {
             "outlinewidth": 0,
             "ticks": ""
            },
            "colorscale": [
             [
              0,
              "#0d0887"
             ],
             [
              0.1111111111111111,
              "#46039f"
             ],
             [
              0.2222222222222222,
              "#7201a8"
             ],
             [
              0.3333333333333333,
              "#9c179e"
             ],
             [
              0.4444444444444444,
              "#bd3786"
             ],
             [
              0.5555555555555556,
              "#d8576b"
             ],
             [
              0.6666666666666666,
              "#ed7953"
             ],
             [
              0.7777777777777778,
              "#fb9f3a"
             ],
             [
              0.8888888888888888,
              "#fdca26"
             ],
             [
              1,
              "#f0f921"
             ]
            ],
            "type": "contour"
           }
          ],
          "contourcarpet": [
           {
            "colorbar": {
             "outlinewidth": 0,
             "ticks": ""
            },
            "type": "contourcarpet"
           }
          ],
          "heatmap": [
           {
            "colorbar": {
             "outlinewidth": 0,
             "ticks": ""
            },
            "colorscale": [
             [
              0,
              "#0d0887"
             ],
             [
              0.1111111111111111,
              "#46039f"
             ],
             [
              0.2222222222222222,
              "#7201a8"
             ],
             [
              0.3333333333333333,
              "#9c179e"
             ],
             [
              0.4444444444444444,
              "#bd3786"
             ],
             [
              0.5555555555555556,
              "#d8576b"
             ],
             [
              0.6666666666666666,
              "#ed7953"
             ],
             [
              0.7777777777777778,
              "#fb9f3a"
             ],
             [
              0.8888888888888888,
              "#fdca26"
             ],
             [
              1,
              "#f0f921"
             ]
            ],
            "type": "heatmap"
           }
          ],
          "heatmapgl": [
           {
            "colorbar": {
             "outlinewidth": 0,
             "ticks": ""
            },
            "colorscale": [
             [
              0,
              "#0d0887"
             ],
             [
              0.1111111111111111,
              "#46039f"
             ],
             [
              0.2222222222222222,
              "#7201a8"
             ],
             [
              0.3333333333333333,
              "#9c179e"
             ],
             [
              0.4444444444444444,
              "#bd3786"
             ],
             [
              0.5555555555555556,
              "#d8576b"
             ],
             [
              0.6666666666666666,
              "#ed7953"
             ],
             [
              0.7777777777777778,
              "#fb9f3a"
             ],
             [
              0.8888888888888888,
              "#fdca26"
             ],
             [
              1,
              "#f0f921"
             ]
            ],
            "type": "heatmapgl"
           }
          ],
          "histogram": [
           {
            "marker": {
             "pattern": {
              "fillmode": "overlay",
              "size": 10,
              "solidity": 0.2
             }
            },
            "type": "histogram"
           }
          ],
          "histogram2d": [
           {
            "colorbar": {
             "outlinewidth": 0,
             "ticks": ""
            },
            "colorscale": [
             [
              0,
              "#0d0887"
             ],
             [
              0.1111111111111111,
              "#46039f"
             ],
             [
              0.2222222222222222,
              "#7201a8"
             ],
             [
              0.3333333333333333,
              "#9c179e"
             ],
             [
              0.4444444444444444,
              "#bd3786"
             ],
             [
              0.5555555555555556,
              "#d8576b"
             ],
             [
              0.6666666666666666,
              "#ed7953"
             ],
             [
              0.7777777777777778,
              "#fb9f3a"
             ],
             [
              0.8888888888888888,
              "#fdca26"
             ],
             [
              1,
              "#f0f921"
             ]
            ],
            "type": "histogram2d"
           }
          ],
          "histogram2dcontour": [
           {
            "colorbar": {
             "outlinewidth": 0,
             "ticks": ""
            },
            "colorscale": [
             [
              0,
              "#0d0887"
             ],
             [
              0.1111111111111111,
              "#46039f"
             ],
             [
              0.2222222222222222,
              "#7201a8"
             ],
             [
              0.3333333333333333,
              "#9c179e"
             ],
             [
              0.4444444444444444,
              "#bd3786"
             ],
             [
              0.5555555555555556,
              "#d8576b"
             ],
             [
              0.6666666666666666,
              "#ed7953"
             ],
             [
              0.7777777777777778,
              "#fb9f3a"
             ],
             [
              0.8888888888888888,
              "#fdca26"
             ],
             [
              1,
              "#f0f921"
             ]
            ],
            "type": "histogram2dcontour"
           }
          ],
          "mesh3d": [
           {
            "colorbar": {
             "outlinewidth": 0,
             "ticks": ""
            },
            "type": "mesh3d"
           }
          ],
          "parcoords": [
           {
            "line": {
             "colorbar": {
              "outlinewidth": 0,
              "ticks": ""
             }
            },
            "type": "parcoords"
           }
          ],
          "pie": [
           {
            "automargin": true,
            "type": "pie"
           }
          ],
          "scatter": [
           {
            "fillpattern": {
             "fillmode": "overlay",
             "size": 10,
             "solidity": 0.2
            },
            "type": "scatter"
           }
          ],
          "scatter3d": [
           {
            "line": {
             "colorbar": {
              "outlinewidth": 0,
              "ticks": ""
             }
            },
            "marker": {
             "colorbar": {
              "outlinewidth": 0,
              "ticks": ""
             }
            },
            "type": "scatter3d"
           }
          ],
          "scattercarpet": [
           {
            "marker": {
             "colorbar": {
              "outlinewidth": 0,
              "ticks": ""
             }
            },
            "type": "scattercarpet"
           }
          ],
          "scattergeo": [
           {
            "marker": {
             "colorbar": {
              "outlinewidth": 0,
              "ticks": ""
             }
            },
            "type": "scattergeo"
           }
          ],
          "scattergl": [
           {
            "marker": {
             "colorbar": {
              "outlinewidth": 0,
              "ticks": ""
             }
            },
            "type": "scattergl"
           }
          ],
          "scattermapbox": [
           {
            "marker": {
             "colorbar": {
              "outlinewidth": 0,
              "ticks": ""
             }
            },
            "type": "scattermapbox"
           }
          ],
          "scatterpolar": [
           {
            "marker": {
             "colorbar": {
              "outlinewidth": 0,
              "ticks": ""
             }
            },
            "type": "scatterpolar"
           }
          ],
          "scatterpolargl": [
           {
            "marker": {
             "colorbar": {
              "outlinewidth": 0,
              "ticks": ""
             }
            },
            "type": "scatterpolargl"
           }
          ],
          "scatterternary": [
           {
            "marker": {
             "colorbar": {
              "outlinewidth": 0,
              "ticks": ""
             }
            },
            "type": "scatterternary"
           }
          ],
          "surface": [
           {
            "colorbar": {
             "outlinewidth": 0,
             "ticks": ""
            },
            "colorscale": [
             [
              0,
              "#0d0887"
             ],
             [
              0.1111111111111111,
              "#46039f"
             ],
             [
              0.2222222222222222,
              "#7201a8"
             ],
             [
              0.3333333333333333,
              "#9c179e"
             ],
             [
              0.4444444444444444,
              "#bd3786"
             ],
             [
              0.5555555555555556,
              "#d8576b"
             ],
             [
              0.6666666666666666,
              "#ed7953"
             ],
             [
              0.7777777777777778,
              "#fb9f3a"
             ],
             [
              0.8888888888888888,
              "#fdca26"
             ],
             [
              1,
              "#f0f921"
             ]
            ],
            "type": "surface"
           }
          ],
          "table": [
           {
            "cells": {
             "fill": {
              "color": "#EBF0F8"
             },
             "line": {
              "color": "white"
             }
            },
            "header": {
             "fill": {
              "color": "#C8D4E3"
             },
             "line": {
              "color": "white"
             }
            },
            "type": "table"
           }
          ]
         },
         "layout": {
          "annotationdefaults": {
           "arrowcolor": "#2a3f5f",
           "arrowhead": 0,
           "arrowwidth": 1
          },
          "autotypenumbers": "strict",
          "coloraxis": {
           "colorbar": {
            "outlinewidth": 0,
            "ticks": ""
           }
          },
          "colorscale": {
           "diverging": [
            [
             0,
             "#8e0152"
            ],
            [
             0.1,
             "#c51b7d"
            ],
            [
             0.2,
             "#de77ae"
            ],
            [
             0.3,
             "#f1b6da"
            ],
            [
             0.4,
             "#fde0ef"
            ],
            [
             0.5,
             "#f7f7f7"
            ],
            [
             0.6,
             "#e6f5d0"
            ],
            [
             0.7,
             "#b8e186"
            ],
            [
             0.8,
             "#7fbc41"
            ],
            [
             0.9,
             "#4d9221"
            ],
            [
             1,
             "#276419"
            ]
           ],
           "sequential": [
            [
             0,
             "#0d0887"
            ],
            [
             0.1111111111111111,
             "#46039f"
            ],
            [
             0.2222222222222222,
             "#7201a8"
            ],
            [
             0.3333333333333333,
             "#9c179e"
            ],
            [
             0.4444444444444444,
             "#bd3786"
            ],
            [
             0.5555555555555556,
             "#d8576b"
            ],
            [
             0.6666666666666666,
             "#ed7953"
            ],
            [
             0.7777777777777778,
             "#fb9f3a"
            ],
            [
             0.8888888888888888,
             "#fdca26"
            ],
            [
             1,
             "#f0f921"
            ]
           ],
           "sequentialminus": [
            [
             0,
             "#0d0887"
            ],
            [
             0.1111111111111111,
             "#46039f"
            ],
            [
             0.2222222222222222,
             "#7201a8"
            ],
            [
             0.3333333333333333,
             "#9c179e"
            ],
            [
             0.4444444444444444,
             "#bd3786"
            ],
            [
             0.5555555555555556,
             "#d8576b"
            ],
            [
             0.6666666666666666,
             "#ed7953"
            ],
            [
             0.7777777777777778,
             "#fb9f3a"
            ],
            [
             0.8888888888888888,
             "#fdca26"
            ],
            [
             1,
             "#f0f921"
            ]
           ]
          },
          "colorway": [
           "#636efa",
           "#EF553B",
           "#00cc96",
           "#ab63fa",
           "#FFA15A",
           "#19d3f3",
           "#FF6692",
           "#B6E880",
           "#FF97FF",
           "#FECB52"
          ],
          "font": {
           "color": "#2a3f5f"
          },
          "geo": {
           "bgcolor": "white",
           "lakecolor": "white",
           "landcolor": "#E5ECF6",
           "showlakes": true,
           "showland": true,
           "subunitcolor": "white"
          },
          "hoverlabel": {
           "align": "left"
          },
          "hovermode": "closest",
          "mapbox": {
           "style": "light"
          },
          "paper_bgcolor": "white",
          "plot_bgcolor": "#E5ECF6",
          "polar": {
           "angularaxis": {
            "gridcolor": "white",
            "linecolor": "white",
            "ticks": ""
           },
           "bgcolor": "#E5ECF6",
           "radialaxis": {
            "gridcolor": "white",
            "linecolor": "white",
            "ticks": ""
           }
          },
          "scene": {
           "xaxis": {
            "backgroundcolor": "#E5ECF6",
            "gridcolor": "white",
            "gridwidth": 2,
            "linecolor": "white",
            "showbackground": true,
            "ticks": "",
            "zerolinecolor": "white"
           },
           "yaxis": {
            "backgroundcolor": "#E5ECF6",
            "gridcolor": "white",
            "gridwidth": 2,
            "linecolor": "white",
            "showbackground": true,
            "ticks": "",
            "zerolinecolor": "white"
           },
           "zaxis": {
            "backgroundcolor": "#E5ECF6",
            "gridcolor": "white",
            "gridwidth": 2,
            "linecolor": "white",
            "showbackground": true,
            "ticks": "",
            "zerolinecolor": "white"
           }
          },
          "shapedefaults": {
           "line": {
            "color": "#2a3f5f"
           }
          },
          "ternary": {
           "aaxis": {
            "gridcolor": "white",
            "linecolor": "white",
            "ticks": ""
           },
           "baxis": {
            "gridcolor": "white",
            "linecolor": "white",
            "ticks": ""
           },
           "bgcolor": "#E5ECF6",
           "caxis": {
            "gridcolor": "white",
            "linecolor": "white",
            "ticks": ""
           }
          },
          "title": {
           "x": 0.05
          },
          "xaxis": {
           "automargin": true,
           "gridcolor": "white",
           "linecolor": "white",
           "ticks": "",
           "title": {
            "standoff": 15
           },
           "zerolinecolor": "white",
           "zerolinewidth": 2
          },
          "yaxis": {
           "automargin": true,
           "gridcolor": "white",
           "linecolor": "white",
           "ticks": "",
           "title": {
            "standoff": 15
           },
           "zerolinecolor": "white",
           "zerolinewidth": 2
          }
         }
        },
        "xaxis": {
         "anchor": "y",
         "domain": [
          0,
          0.94
         ]
        },
        "yaxis": {
         "anchor": "x",
         "domain": [
          0,
          1
         ]
        },
        "yaxis2": {
         "anchor": "x",
         "overlaying": "y",
         "side": "right"
        }
       }
      }
     },
     "metadata": {},
     "output_type": "display_data"
    }
   ],
   "source": [
    "subfig = make_subplots(specs=[[{\"secondary_y\": True}]])\n",
    "\n",
    "\n",
    "alpha_fig = px.box(optimal_parameters_df,\n",
    "             y=['alpha'], \n",
    "             points='all',\n",
    "             width=900,\n",
    "             height=400\n",
    ")\n",
    "\n",
    "beta_fig = px.box(optimal_parameters_df,\n",
    "             y=['beta'],\n",
    "             points='all',\n",
    "             width=900,\n",
    "             height=400\n",
    ")\n",
    "\n",
    "beta_fig.update_traces(yaxis='y2')\n",
    "\n",
    "subfig.add_traces(alpha_fig.data + beta_fig.data)\n",
    "\n",
    "subfig.for_each_trace(\n",
    "    lambda t: t.update(line=dict(color=t.marker.color))\n",
    ")\n",
    "\n",
    "pio.write_image(\n",
    "    subfig,\n",
    "    '../results/LFR_DZ_CSTR/results/alpha_beta_boxplot.png',\n",
    "    format='png',\n",
    "    width=1080,\n",
    "    height=1080\n",
    ")\n",
    "\n",
    "subfig.show()"
   ]
  },
  {
   "cell_type": "markdown",
   "metadata": {},
   "source": [
    "# IMPORT NECESSARY CLASSES\n",
    "\n",
    "- The following models include:\n",
    "    - The general model class necessary for specific, child model classes\n",
    "    - The LFR_DZ_CSTR model class that represents an LFR in series with a CSTR\n",
    "    - The SINGLE_DISPERSION model class that uses the Taylor Dispersion equation as a model\n"
   ]
  },
  {
   "cell_type": "code",
   "execution_count": 5,
   "metadata": {},
   "outputs": [],
   "source": [
    "\n",
    "import numpy as np \n",
    "from scipy.optimize import curve_fit, differential_evolution\n",
    "\n",
    "class Model:\n",
    "    def __init__(self, initial_guess=None):\n",
    "        self.initial_guess = initial_guess\n",
    "\n",
    "\n",
    "    def fit(self, xdata, ytrue, polish_bool=True):\n",
    "        '''\n",
    "        A two-step optimization procedure where differential evolution is \n",
    "        applied first and then a polishing step with a gradient based method \n",
    "        is used. Fits the model instance to the provided ground truth data.\n",
    "\n",
    "        Parameters:\n",
    "        - xdata : np.array\n",
    "            time sequence to fit over\n",
    "        - ytrue : np.array\n",
    "            the ground truth data to fit the model to \n",
    "        - polish_bool : bool \n",
    "            Bool for whether or not to perform the gradient based optimization step\n",
    "\n",
    "        Returns: \n",
    "        - Nothing, but sets model attribute \"params\" to optimally found parameters\n",
    "        '''\n",
    "\n",
    "        result = differential_evolution(self.objective, \n",
    "                                        self.bounds, \n",
    "                                        args=(xdata, ytrue),\n",
    "                                        polish=polish_bool,\n",
    "                                        seed=69)\n",
    "        self.params = result.x\n",
    "\n",
    "\n",
    "    def scipy_curve_fit(self, xdata, ydata, bounds=None):\n",
    "        try: \n",
    "            popt, pcov = curve_fit(self.function, xdata, ydata, \n",
    "                                bounds=bounds , p0=self.initial_guess)\n",
    "            self.params = popt\n",
    "        except RuntimeError as e:\n",
    "            print(f\"{e}: Couldn't find optimal parameters\")\n",
    "            self.params = [0, 0, 0]\n",
    "    \n",
    "    def predict(self, xdata):\n",
    "        return self.function(xdata, *self.params)\n",
    "    \n",
    "    def function(self, x, *params):\n",
    "        raise NotImplementedError(\"This method should be implemented by subclasses.\")\n",
    "    \n",
    "    def objective(self, params, args):\n",
    "         raise NotImplementedError(\"This method should be implemented by subclasses.\")\n"
   ]
  },
  {
   "cell_type": "code",
   "execution_count": 21,
   "metadata": {},
   "outputs": [],
   "source": [
    "\n",
    "from scipy.special import expi\n",
    "import numpy as np\n",
    "from sklearn.metrics import mean_squared_error\n",
    "\n",
    "\n",
    "class LFR_DZ_CSTR(Model):\n",
    "    \"\"\"\n",
    "    LFR_DZ_CSTR model represents a system where all flow first enters a \n",
    "    laminar flow reactor (LFR).The outlet of the LFR goes directly to the \n",
    "    CSTR. The model has two primary parameters:\n",
    "    - a : the fraction of real volume that is described by the LFR\n",
    "    - b : the fraction of real volume that is described by the CSTR\n",
    "\n",
    "    Attributes:\n",
    "    - dt : the amount of time during which the tracer was injected (CFD sim dt)\n",
    "    - tau : the spacetime of the reactor defined by volume / flow rate\n",
    "    - bounds : the bounds for the model parameters which are optimized for\n",
    "    - C0 : initial concnetration injected in pulse experiment\n",
    "\n",
    "    Notes: \n",
    "    - This is currently the best model for Phase I of Miller's dissertation\n",
    "    - A third parameter that is not a degree of freedom, call it c, is found by\n",
    "      subtracting the sum of a and b from 1. This is representative of the \n",
    "      fraction of the volume represented as a stagnant or deadzone. \n",
    "    \"\"\"\n",
    "\n",
    "    def __init__(self, dt, tau, bounds=None, initial_guess=None, C0=1):\n",
    "        \"\"\"\n",
    "        Initializes the model \n",
    "\n",
    "        Parameters: \n",
    "        - See class level doc string\n",
    "        \"\"\"\n",
    "\n",
    "        super().__init__(initial_guess=initial_guess)\n",
    "        self.dt = dt\n",
    "        self.tau = tau\n",
    "        self.bounds = bounds\n",
    "        self.C0 = C0\n",
    "    \n",
    "\n",
    "    def exp_term(self, t, m):\n",
    "        \"\"\"\n",
    "        This is a necessary term for calculating the outlet of the CSTR\n",
    "        \"\"\"\n",
    "\n",
    "        return np.exp(m*t)*(m*t + 1)/t**2\n",
    "\n",
    "    def expi_term(self, t, m):\n",
    "        \"\"\"\n",
    "        This is a necessary term for calculating the outlet of the CSTR\n",
    "        \"\"\"\n",
    "\n",
    "        return m**2 * expi(m*t)\n",
    "\n",
    "    def outlet_concentration(self, t, a, b):\n",
    "        \"\"\"\n",
    "        Calculates the concentration leaving the CSTR for some time, t\n",
    "\n",
    "        Parameters:\n",
    "        - a : the fraction of volume given by the LFR\n",
    "        - b : the fraction of volume given by the CSTR\n",
    "\n",
    "        Returns:\n",
    "        - The concentration leaving the CSTR at time t\n",
    "\n",
    "        \"\"\"\n",
    "\n",
    "        tau_LFR = a*self.tau\n",
    "        tau_CSTR = b*self.tau\n",
    "\n",
    "        m = 1 / tau_CSTR\n",
    "        n = tau_LFR**2 * self.C0 * self.dt / 2 / tau_CSTR\n",
    "        C_0 = 0\n",
    "        C_IC = n*0.5*(self.exp_term(tau_LFR/2, m) - self.expi_term(tau_LFR/2, m))\n",
    "        C_1 = (C_IC - 0.5*n*(self.exp_term(t, m) - self.expi_term(t, m)))/np.exp(m*t)\n",
    "        C_CSTR_out = np.where(t < tau_LFR/2, C_0, C_1)\n",
    "        return C_CSTR_out\n",
    "    \n",
    "    def function(self, xdata, a, b):\n",
    "        return self.outlet_concentration(xdata, a, b)\n",
    "\n",
    "    def objective(self, params, xdata, ytrue):\n",
    "        '''\n",
    "        This was the first deployment of the objective function method in a \n",
    "        model class. \n",
    "\n",
    "        Parameters: \n",
    "        - params : a tuple containing the model parameters a and b\n",
    "        - xdata : the time series to predict over\n",
    "        - ytrue : the CFD RTD data\n",
    "\n",
    "        Returns:\n",
    "        - np.float : the mean squared error term plus a penalty constraint\n",
    "        '''\n",
    "\n",
    "        a, b = params\n",
    "        penalty = 0\n",
    "\n",
    "        # Penalty term to ensure that sum of a and b is never greater than 1 \n",
    "        if a + b > 1:\n",
    "            penalty = 1000 * (a + b - 1)**2\n",
    "        y_predicted = self.function(xdata, a, b)\n",
    "        return mean_squared_error(ytrue, y_predicted) + penalty"
   ]
  },
  {
   "cell_type": "markdown",
   "metadata": {},
   "source": [
    "# PARAMETER RECOVERY TESTS\n",
    "- **Purpose**: The following is performed to validate our choice of optimization/curve fitting strategy in our software\n",
    "- **Process**: Generate a set of psuedo-random alpha and beta values. Use the pairs of parameter values to generate a ground truth curve using the \"function\" method of the class. Use the result of the function method as the \"ytrue\" data in the model's \"curve_fit\" method.\n",
    "- **Desired Outcome**: The optmiziation procedure should, within an error limit, return the original input parameters.  "
   ]
  },
  {
   "cell_type": "code",
   "execution_count": 22,
   "metadata": {},
   "outputs": [
    {
     "name": "stdout",
     "output_type": "stream",
     "text": [
      "50\n"
     ]
    },
    {
     "data": {
      "text/plain": [
       "array([[0.50816181, 0.24390437],\n",
       "       [0.41168514, 0.23170242],\n",
       "       [0.67793112, 0.19925827],\n",
       "       [0.65212216, 0.19624231],\n",
       "       [0.69125626, 0.28765878],\n",
       "       [0.40766849, 0.10682358],\n",
       "       [0.69242296, 0.22409326],\n",
       "       [0.46524164, 0.11604435],\n",
       "       [0.91429255, 0.03175058],\n",
       "       [0.49905197, 0.01560958],\n",
       "       [0.41229017, 0.14130016],\n",
       "       [0.47004236, 0.19062186],\n",
       "       [0.58982039, 0.22458594],\n",
       "       [0.49474738, 0.13141239],\n",
       "       [0.85538775, 0.11660911],\n",
       "       [0.89096521, 0.05901836],\n",
       "       [0.60677469, 0.240223  ],\n",
       "       [0.59127928, 0.25158085],\n",
       "       [0.46699674, 0.22292177],\n",
       "       [0.45037189, 0.26383543],\n",
       "       [0.75972604, 0.21185919],\n",
       "       [0.43340421, 0.06597524],\n",
       "       [0.68787837, 0.23261335],\n",
       "       [0.64100589, 0.10688404],\n",
       "       [0.83070951, 0.10247237],\n",
       "       [0.76123843, 0.174804  ],\n",
       "       [0.73143029, 0.20102078],\n",
       "       [0.60283243, 0.07322098],\n",
       "       [0.54392481, 0.25503217],\n",
       "       [0.87786145, 0.09762776],\n",
       "       [0.43821186, 0.13708399],\n",
       "       [0.61876939, 0.03651023],\n",
       "       [0.44201368, 0.09728396],\n",
       "       [0.59162062, 0.03485149],\n",
       "       [0.44222956, 0.10967686],\n",
       "       [0.5741582 , 0.2156973 ],\n",
       "       [0.87557283, 0.08809803],\n",
       "       [0.73709123, 0.20044555],\n",
       "       [0.76961103, 0.19182937],\n",
       "       [0.61689013, 0.24943915],\n",
       "       [0.50129038, 0.16477125],\n",
       "       [0.66174456, 0.27422528],\n",
       "       [0.8396952 , 0.13049606],\n",
       "       [0.43773257, 0.09295295],\n",
       "       [0.41243979, 0.16051225],\n",
       "       [0.57997121, 0.21993427],\n",
       "       [0.82069857, 0.15323477],\n",
       "       [0.84080063, 0.15427394],\n",
       "       [0.64019706, 0.13985364],\n",
       "       [0.61506276, 0.16968545]])"
      ]
     },
     "execution_count": 22,
     "metadata": {},
     "output_type": "execute_result"
    }
   ],
   "source": [
    "# We need lists of alpha and beta values. We will pull from a uniform distriubtion between 0.4 and 1 for \n",
    "# alpha values and 1e-2 and 0.3 for beta values. These ranges are chosen from the combined consideration of the \n",
    "# model arteries and real patient arteries. \n",
    "np.random.seed(11)\n",
    "alphas = np.random.uniform(0.4, 1.0, 64)\n",
    "betas = np.random.uniform(1e-2, 0.3, 64)  # Setting lower bound too low will result in error from differential evolution optimizer\n",
    "\n",
    "\n",
    "pairs = list(zip(alphas, betas))\n",
    "\n",
    "# Filter the pairs such that no pairs exist where the sum is greater than one. This is a model constraint. \n",
    "pairs = [(a, b) for a, b in pairs if a+b<=1]\n",
    "\n",
    "# Convert pairs to a numpy array\n",
    "pairs = np.array(pairs)\n",
    "print(len(pairs))\n",
    "pairs"
   ]
  },
  {
   "cell_type": "code",
   "execution_count": 23,
   "metadata": {},
   "outputs": [
    {
     "ename": "ModuleNotFoundError",
     "evalue": "No module named 'tqdm'",
     "output_type": "error",
     "traceback": [
      "\u001b[1;31m---------------------------------------------------------------------------\u001b[0m",
      "\u001b[1;31mModuleNotFoundError\u001b[0m                       Traceback (most recent call last)",
      "Cell \u001b[1;32mIn[23], line 3\u001b[0m\n\u001b[0;32m      1\u001b[0m \u001b[38;5;28;01mimport\u001b[39;00m \u001b[38;5;21;01mwarnings\u001b[39;00m\n\u001b[0;32m      2\u001b[0m warnings\u001b[38;5;241m.\u001b[39mfilterwarnings(\u001b[38;5;124m'\u001b[39m\u001b[38;5;124mignore\u001b[39m\u001b[38;5;124m'\u001b[39m)\n\u001b[1;32m----> 3\u001b[0m \u001b[38;5;28;01mfrom\u001b[39;00m \u001b[38;5;21;01mtqdm\u001b[39;00m \u001b[38;5;28;01mimport\u001b[39;00m tqdm\n\u001b[0;32m      4\u001b[0m \u001b[38;5;66;03m# Define a toy system\u001b[39;00m\n\u001b[0;32m      5\u001b[0m \u001b[38;5;66;03m# These values are chosen as they are similar to those seen in model and real arteries\u001b[39;00m\n\u001b[0;32m      6\u001b[0m dt \u001b[38;5;241m=\u001b[39m \u001b[38;5;241m1e-6\u001b[39m\n",
      "\u001b[1;31mModuleNotFoundError\u001b[0m: No module named 'tqdm'"
     ]
    }
   ],
   "source": [
    "import warnings\n",
    "warnings.filterwarnings('ignore')\n",
    "from tqdm import tqdm\n",
    "# Define a toy system\n",
    "# These values are chosen as they are similar to those seen in model and real arteries\n",
    "dt = 1e-6\n",
    "mean_RT = 0.1\n",
    "\n",
    "# Initialize the System\n",
    "model = LFR_DZ_CSTR(dt, mean_RT, bounds=[(0.01, 0.99), (0.01, 0.99)])\n",
    "\n",
    "# Define length of time to evaluate model\n",
    "t = np.linspace(0, 3*mean_RT, 5000)\n",
    "\n",
    "# Initialize an array to store the fitted parameters\n",
    "fitted_parameters = np.zeros((len(pairs), 2))\n",
    "\n",
    "for i, pair in tqdm(enumerate(pairs)):\n",
    "    Ct = model.function(t, *pair)\n",
    "    model.fit(t, Ct)\n",
    "    fitted_parameters[i, :] = model.params\n",
    "\n"
   ]
  },
  {
   "cell_type": "code",
   "execution_count": null,
   "metadata": {},
   "outputs": [
    {
     "data": {
      "image/png": "[encoded data removed]",
      "text/plain": [
       "<Figure size 1000x800 with 1 Axes>"
      ]
     },
     "metadata": {},
     "output_type": "display_data"
    }
   ],
   "source": [
    "plt.figure(figsize=(10, 8))\n",
    "plt.scatter(pairs[:, 1], pairs[:, 0], color='blue', alpha=.3, s=75, label='Ground Truth')\n",
    "plt.scatter(fitted_parameters[:, 1], fitted_parameters[:, 0], color='red', marker='x', s=25, label='Fitted Parameters')\n",
    "plt.xlabel('Beta')\n",
    "plt.ylabel('Alpha')\n",
    "plt.legend()\n",
    "plt.title('Parameter Recovery')\n",
    "plt.show()"
   ]
  },
  {
   "cell_type": "markdown",
   "metadata": {},
   "source": [
    "# Guassian Noise Test\n",
    "- **Purpose**: To ensure that the optimization algorithm is robust to measurement noise that may be seen in real thermodilution curves.\n",
    "- **Method**: Create an array of random samples from a Guassian distribution with mean of 0 and add it to the Ct ground truth curve.\n",
    "- **Desired Outcome**: That there is no significant difference between the curve fitted to the ground truth data and that fit to the ground truth + noise "
   ]
  },
  {
   "cell_type": "code",
   "execution_count": null,
   "metadata": {},
   "outputs": [],
   "source": [
    "import warnings\n",
    "warnings.filterwarnings('ignore')\n",
    "\n",
    "# Define a toy system\n",
    "# These values are chosen as they are similar to those seen in model and real arteries\n",
    "dt = 1e-6\n",
    "mean_RT = 0.1\n",
    "\n",
    "# Choose a random set of parameters to use\n",
    "true_parameters = pairs[47]\n",
    "\n",
    "\n",
    "# Initialize the System\n",
    "model = LFR_DZ_CSTR(dt, mean_RT, bounds=[(0.01, 0.99), (0.01, 0.99)])\n",
    "\n",
    "\n",
    "# Define length of time to evaluate model\n",
    "t = np.linspace(0, 3*mean_RT, 5000)\n",
    "\n",
    "\n",
    "# Generate the ground truth data from the initialized model\n",
    "Ct = model.function(t, *true_parameters)\n",
    "\n",
    "\n",
    "# Generate an array of Guassian noise that is 1% of the maximum value\n",
    "noise = np.random.normal(0, 0.01*max(Ct), len(Ct))\n",
    "Ct_fuzzy = Ct + noise\n",
    "\n",
    "\n",
    "# Fit the model to the fuzzy data and get the fitted parameters\n",
    "model.fit(t, Ct_fuzzy)\n",
    "fitted_parameters = model.params\n",
    "\n",
    "\n",
    "# Format parmater string needed for comparing the true values to those found by the optimizer from the fuzzy data\n",
    "message = f'True Parameters: ({true_parameters[0]:.3f}, {true_parameters[1]:.3f})' + '\\n' \\\n",
    "         + f'Fitted Parameters: ({fitted_parameters[0]:.3f}, {fitted_parameters[1]:.3f})'\n",
    "\n",
    "\n"
   ]
  },
  {
   "cell_type": "code",
   "execution_count": null,
   "metadata": {},
   "outputs": [
    {
     "data": {
      "image/png": "[encoded data removed]",
      "text/plain": [
       "<Figure size 1200x800 with 2 Axes>"
      ]
     },
     "metadata": {},
     "output_type": "display_data"
    }
   ],
   "source": [
    "# Create two plots to show how the optimizer parameters compare to the noisy data and the ground truth data\n",
    "\n",
    "fig, ax = plt.subplots(1, 2, figsize=(12, 8))\n",
    "\n",
    "ax[0].plot(t, Ct_fuzzy, label='Noisy Data')\n",
    "ax[0].plot(t, model.function(t, *fitted_parameters), label='Fitted Curve', c='orange', linestyle='--')\n",
    "\n",
    "\n",
    "ax[1].scatter(t[::40], Ct[::40], label='Ground Truth')\n",
    "ax[1].plot(t, model.function(t, *fitted_parameters), label='Fitted Curve', c='orange', linestyle='--')\n",
    "\n",
    "\n",
    "ax[0].set_ylabel('Mass Fraction')\n",
    "\n",
    "ax[0].legend()\n",
    "ax[1].legend()\n",
    "\n",
    "ax[1].text(x=0.12, y=1e-5, s=message)\n",
    "\n",
    "fig.text(0.48, 0.05, s='Time [s]')\n",
    "fig.suptitle('Performance Against Measurement Error')\n",
    "\n",
    "plt.show()\n",
    "\n"
   ]
  },
  {
   "cell_type": "markdown",
   "metadata": {},
   "source": [
    "# SOBOL GLOBAL SENSITIVITY ANALYSIS\n",
    "- **Purpose**: To observe the model's sensitivity to its two parameters \n",
    "- **Method**: I will edit my LFR_DZ_CSTR model by recasting the parameters a and b to u and v where u and v are independent of another another but are related through a and b. I will then use Sobol's method to calculate the sensitivity indices. \n",
    "- **Desired Outcome**: have a measurement of the model's sensitivity to changes in its two parameters. "
   ]
  },
  {
   "cell_type": "code",
   "execution_count": 46,
   "metadata": {},
   "outputs": [],
   "source": [
    "\n",
    "from scipy.special import expi\n",
    "import numpy as np\n",
    "from sklearn.metrics import mean_squared_error\n",
    "\n",
    "\n",
    "class LFR_DZ_CSTR(Model):\n",
    "    \"\"\"\n",
    "    LFR_DZ_CSTR model represents a system where all flow first enters a \n",
    "    laminar flow reactor (LFR).The outlet of the LFR goes directly to the \n",
    "    CSTR. The model has two primary parameters:\n",
    "    - a : the fraction of real volume that is described by the LFR\n",
    "    - b : the fraction of real volume that is described by the CSTR\n",
    "\n",
    "    Attributes:\n",
    "    - dt : the amount of time during which the tracer was injected (CFD sim dt)\n",
    "    - tau : the spacetime of the reactor defined by volume / flow rate\n",
    "    - bounds : the bounds for the model parameters which are optimized for\n",
    "    - C0 : initial concnetration injected in pulse experiment\n",
    "\n",
    "    Notes: \n",
    "    - This is currently the best model for Phase I of Miller's dissertation\n",
    "    - A third parameter that is not a degree of freedom, call it c, is found by\n",
    "      subtracting the sum of a and b from 1. This is representative of the \n",
    "      fraction of the volume represented as a stagnant or deadzone. \n",
    "    \"\"\"\n",
    "\n",
    "    def __init__(self, dt, tau, bounds=None, initial_guess=None, C0=1):\n",
    "        \"\"\"\n",
    "        Initializes the model \n",
    "\n",
    "        Parameters: \n",
    "        - See class level doc string\n",
    "        \"\"\"\n",
    "\n",
    "        super().__init__(initial_guess=initial_guess)\n",
    "        self.dt = dt\n",
    "        self.tau = tau\n",
    "        self.bounds = bounds\n",
    "        self.C0 = C0\n",
    "    \n",
    "\n",
    "    def exp_term(self, t, m):\n",
    "        \"\"\"\n",
    "        This is a necessary term for calculating the outlet of the CSTR\n",
    "        \"\"\"\n",
    "\n",
    "        return np.exp(m*t)*(m*t + 1)/t**2\n",
    "\n",
    "    def expi_term(self, t, m):\n",
    "        \"\"\"\n",
    "        This is a necessary term for calculating the outlet of the CSTR\n",
    "        \"\"\"\n",
    "\n",
    "        return m**2 * expi(m*t)\n",
    "\n",
    "    def outlet_concentration(self, t, a, b):\n",
    "        \"\"\"\n",
    "        Calculates the concentration leaving the CSTR for some time, t\n",
    "\n",
    "        Parameters:\n",
    "        - a : the fraction of volume given by the LFR\n",
    "        - b : the fraction of volume given by the CSTR\n",
    "\n",
    "        Returns:\n",
    "        - The concentration leaving the CSTR at time t\n",
    "\n",
    "        \"\"\"\n",
    "        \n",
    "        # Now casting u = a and v = (1-a)*b\n",
    "\n",
    "        tau_LFR = a*self.tau\n",
    "        tau_CSTR = (1-a)*b*self.tau\n",
    "\n",
    "        m = 1 / tau_CSTR\n",
    "        n = tau_LFR**2 * self.C0 * self.dt / 2 / tau_CSTR\n",
    "        C_0 = 0\n",
    "        C_IC = n*0.5*(self.exp_term(tau_LFR/2, m) - self.expi_term(tau_LFR/2, m))\n",
    "        C_1 = (C_IC - 0.5*n*(self.exp_term(t, m) - self.expi_term(t, m)))/np.exp(m*t)\n",
    "        C_CSTR_out = np.where(t < tau_LFR/2, C_0, C_1)\n",
    "        return C_CSTR_out\n",
    "    \n",
    "    def function(self, xdata, a, b):\n",
    "        return self.outlet_concentration(xdata, a, b)\n",
    "\n",
    "    def objective(self, params, xdata, ytrue):\n",
    "        '''\n",
    "        This was the first deployment of the objective function method in a \n",
    "        model class. \n",
    "\n",
    "        Parameters: \n",
    "        - params : a tuple containing the model parameters a and b\n",
    "        - xdata : the time series to predict over\n",
    "        - ytrue : the CFD RTD data\n",
    "\n",
    "        Returns:\n",
    "        - np.float : the mean squared error term plus a penalty constraint\n",
    "        '''\n",
    "\n",
    "        a, b = params\n",
    "\n",
    "        # Eliminated the penalty term enforcing a+b to be less than one.\n",
    "        # No longer necessary now that a and b are independent. \n",
    "\n",
    "        y_predicted = self.function(xdata, a, b)\n",
    "        return mean_squared_error(ytrue, y_predicted)"
   ]
  },
  {
   "cell_type": "code",
   "execution_count": 50,
   "metadata": {},
   "outputs": [
    {
     "name": "stderr",
     "output_type": "stream",
     "text": [
      "C:\\Users\\jacob\\AppData\\Local\\Temp\\ipykernel_41876\\314625388.py:55: DeprecationWarning: `salib.sample.saltelli` will be removed in SALib 1.5.1 Please use `salib.sample.sobol`\n",
      "  param_samples = saltelli.sample(problem, 2048, calc_second_order=True)\n",
      "C:\\Users\\jacob\\AppData\\Local\\Temp\\ipykernel_41876\\2540848093.py:47: RuntimeWarning: overflow encountered in exp\n",
      "  return np.exp(m*t)*(m*t + 1)/t**2\n",
      "C:\\Users\\jacob\\AppData\\Local\\Temp\\ipykernel_41876\\2540848093.py:78: RuntimeWarning: invalid value encountered in scalar subtract\n",
      "  C_1 = (C_IC - 0.5*n*(self.exp_term(t, m) - self.expi_term(t, m)))/np.exp(m*t)\n",
      "C:\\Users\\jacob\\AppData\\Local\\Temp\\ipykernel_41876\\2540848093.py:78: RuntimeWarning: overflow encountered in exp\n",
      "  C_1 = (C_IC - 0.5*n*(self.exp_term(t, m) - self.expi_term(t, m)))/np.exp(m*t)\n",
      "C:\\Users\\jacob\\AppData\\Local\\Temp\\ipykernel_41876\\2540848093.py:47: RuntimeWarning: overflow encountered in scalar divide\n",
      "  return np.exp(m*t)*(m*t + 1)/t**2\n",
      "C:\\Users\\jacob\\AppData\\Local\\Temp\\ipykernel_41876\\2540848093.py:54: RuntimeWarning: overflow encountered in scalar multiply\n",
      "  return m**2 * expi(m*t)\n",
      "C:\\Users\\jacob\\AppData\\Local\\Temp\\ipykernel_41876\\2540848093.py:47: RuntimeWarning: overflow encountered in scalar multiply\n",
      "  return np.exp(m*t)*(m*t + 1)/t**2\n",
      "c:\\Users\\jacob\\anaconda3\\envs\\transonic\\Lib\\site-packages\\SALib\\util\\__init__.py:274: FutureWarning: unique with argument that is not not a Series, Index, ExtensionArray, or np.ndarray is deprecated and will raise in a future version.\n",
      "  names = list(pd.unique(groups))\n",
      "c:\\Users\\jacob\\anaconda3\\envs\\transonic\\Lib\\site-packages\\SALib\\analyze\\sobol.py:141: RuntimeWarning: invalid value encountered in divide\n",
      "  Y = (Y - Y.mean()) / Y.std()\n"
     ]
    }
   ],
   "source": [
    "from SALib.sample import saltelli\n",
    "from SALib.analyze import sobol\n",
    "\n",
    "\n",
    "def Y_generator(samples, time_stamps):\n",
    "    Y = np.zeros([samples.shape[0], len(time_stamps)])\n",
    "\n",
    "    for i, t in enumerate(time_stamps):\n",
    "        # Generate and record result for each set of parameters\n",
    "        for j, X in enumerate(samples):\n",
    "            Y[j, i] = model.function(t, *X)\n",
    "    return Y\n",
    "\n",
    "def filter_nan(Yi, samples):\n",
    "    # Find and drop non finite results that are due to unstable pairs of a and b\n",
    "    non_finite_indices = np.where(~np.isfinite(Y))\n",
    "\n",
    "    # Create a mask that will be used to drop rows with nan values\n",
    "    mask = np.ones(len(Y), dtype=bool)\n",
    "    mask[non_finite_indices[0]] = False\n",
    "    Y_filtered = Y[mask]\n",
    "\n",
    "    # Apply mask to param_samples as well for consistency\n",
    "    samples = samples[mask]\n",
    "\n",
    "    # After dropping nans, make sure that Y_filtered is equal to 2^n\n",
    "    # I chose 2^10 -> 1024 which converts to the first 6144 rows\n",
    "    Y_filtered = Y_filtered[:6144, :]  \n",
    "    return Y_filtered, samples\n",
    "\n",
    "\n",
    "\n",
    "# Define the problem setup\n",
    "# NOTE: The bounds for b were determine from the distribution of b values \n",
    "# from parameter recovery and solving for min and max values using v=(1-a)*b\n",
    "problem = {\n",
    "    'num_vars': 2,\n",
    "    'names': ['a', 'b'], \n",
    "    'bounds': [[0.5, 0.96], [0.025, 0.216]]\n",
    "}\n",
    "\n",
    "\n",
    "# Define a toy system\n",
    "# These values are chosen as they are similar to those seen in model and real arteries\n",
    "dt = 1e-6\n",
    "mean_RT = 0.1\n",
    "\n",
    "# Initialize the System\n",
    "model = LFR_DZ_CSTR(dt, mean_RT)\n",
    "\n",
    "# Choose time stamp to sample model\n",
    "T = np.linspace(1e-6, 2*mean_RT, 100)\n",
    "\n",
    "# Generate samples \n",
    "param_samples = saltelli.sample(problem, 2048, calc_second_order=True)\n",
    "\n",
    "Y = Y_generator(param_samples, T)\n",
    "\n",
    "Y, param_samples = filter_nan(Y, param_samples)\n",
    "\n",
    "\n",
    "\n",
    "sobol_indices = [sobol.analyze(problem, Yi, calc_second_order=True) \\\n",
    "                 for Yi in Y.T]"
   ]
  },
  {
   "cell_type": "code",
   "execution_count": 64,
   "metadata": {},
   "outputs": [],
   "source": [
    "S1_a = [sobol_indices[i]['S1'][0] for i in range(len(sobol_indices))]\n",
    "\n",
    "S1_b = [sobol_indices[i]['S1'][1] for i in range(len(sobol_indices))]\n",
    "\n",
    "ST_a = [sobol_indices[i]['ST'][0] for i in range(len(sobol_indices))]\n",
    "\n",
    "ST_b = [sobol_indices[i]['ST'][1] for i in range(len(sobol_indices))]\n"
   ]
  },
  {
   "cell_type": "code",
   "execution_count": 65,
   "metadata": {},
   "outputs": [
    {
     "name": "stdout",
     "output_type": "stream",
     "text": [
      "[ True  True  True  True  True  True  True  True  True  True  True  True\n",
      "  True False False False False False False False False False False False\n",
      " False False False False False False False False False False False False\n",
      " False False False False False False False False False False False False\n",
      " False False False False False False False False False False False False\n",
      " False False False False False False False False False False False False\n",
      " False False False False False False False False False False False False\n",
      " False False False False False False False False False False False False\n",
      " False False False False] [ True  True  True  True  True  True  True  True  True  True  True  True\n",
      "  True False False False False False False False False False False False\n",
      " False False False False False False False False False False False False\n",
      " False False False False False False False False False False False False\n",
      " False False False False False False False False False False False False\n",
      " False False False False False False False False False False False False\n",
      " False False False False False False False False False False False False\n",
      " False False False False False False False False False False False False\n",
      " False False False False] [ True  True  True  True  True  True  True  True  True  True  True  True\n",
      "  True False False False False False False False False False False False\n",
      " False False False False False False False False False False False False\n",
      " False False False False False False False False False False False False\n",
      " False False False False False False False False False False False False\n",
      " False False False False False False False False False False False False\n",
      " False False False False False False False False False False False False\n",
      " False False False False False False False False False False False False\n",
      " False False False False] [ True  True  True  True  True  True  True  True  True  True  True  True\n",
      "  True False False False False False False False False False False False\n",
      " False False False False False False False False False False False False\n",
      " False False False False False False False False False False False False\n",
      " False False False False False False False False False False False False\n",
      " False False False False False False False False False False False False\n",
      " False False False False False False False False False False False False\n",
      " False False False False False False False False False False False False\n",
      " False False False False]\n",
      "87 87 87 87\n"
     ]
    }
   ],
   "source": [
    "S1_a = np.array(S1_a)[~np.isnan(S1_a)]\n",
    "\n",
    "S1_b = np.array(S1_b)[~np.isnan(S1_b)]\n",
    "ST_a = np.array(ST_a)[~np.isnan(ST_a)]\n",
    "ST_b = np.array(ST_b)[~np.isnan(ST_b)]\n",
    "\n",
    "print(len(S1_a), len(S1_b), len(ST_a), len(ST_b))"
   ]
  },
  {
   "cell_type": "code",
   "execution_count": 67,
   "metadata": {},
   "outputs": [
    {
     "data": {
      "text/plain": [
       "<matplotlib.legend.Legend at 0x1c57b9bc4a0>"
      ]
     },
     "execution_count": 67,
     "metadata": {},
     "output_type": "execute_result"
    },
    {
     "data": {
      "image/png": "[encoded data removed]",
      "text/plain": [
       "<Figure size 1000x500 with 3 Axes>"
      ]
     },
     "metadata": {},
     "output_type": "display_data"
    }
   ],
   "source": [
    "prediction_interval=95\n",
    "\n",
    "fig = plt.figure(figsize=(10, 5), constrained_layout=True)\n",
    "gs = fig.add_gridspec(2, 2)\n",
    "axs0 = fig.add_subplot(gs[:, 0])\n",
    "axs1 = fig.add_subplot(gs[0, 1])\n",
    "axs2 = fig.add_subplot(gs[1, 1])\n",
    "\n",
    "axs0.plot(T/mean_RT, Y.mean(axis=0), color='black', linestyle='--', label='Mean')\n",
    "axs0.fill_between(T/mean_RT, \n",
    "                 np.percentile(Y, 50 - prediction_interval/2, axis=0),\n",
    "                 np.percentile(Y, 50 + prediction_interval/2, axis=0),\n",
    "                 alpha=0.5,\n",
    "                 color='blue',\n",
    "                 label='95th Percentile')\n",
    "axs0.set_xlabel('Time / Nominal Time')\n",
    "axs0.set_ylabel('Mass Fraction of Tracer')\n",
    "axs0.legend()\n",
    "\n",
    "T_adj = T[13:] \n",
    "\n",
    "axs1.plot(T_adj/mean_RT, S1_a, label='LFR Volume Parameter')\n",
    "axs1.plot(T_adj/mean_RT, S1_b, label='CSTR Volume Parameter')\n",
    "axs1.set_xlabel('Time / Nominal Time')\n",
    "axs1.set_ylabel('First Order Sobol Indices')\n",
    "axs1.yaxis.set_label_position(\"right\")\n",
    "axs1.legend()\n",
    "\n",
    "axs2.plot(T_adj/mean_RT, ST_a, label='LFR Volume Parameter')\n",
    "axs2.plot(T_adj/mean_RT, ST_b, label='CSTR Volume Parameter')\n",
    "axs2.set_xlabel('Time / Nominal Time')\n",
    "axs2.set_ylabel('Total Effect Sobol Indices')\n",
    "axs2.yaxis.set_label_position(\"right\")\n",
    "axs2.legend()"
   ]
  },
  {
   "cell_type": "code",
   "execution_count": null,
   "metadata": {},
   "outputs": [],
   "source": []
  }
 ],
 "metadata": {
  "kernelspec": {
   "display_name": "Python 3 (ipykernel)",
   "language": "python",
   "name": "python3"
  },
  "language_info": {
   "codemirror_mode": {
    "name": "ipython",
    "version": 3
   },
   "file_extension": ".py",
   "mimetype": "text/x-python",
   "name": "python",
   "nbconvert_exporter": "python",
   "pygments_lexer": "ipython3",
   "version": "3.12.2"
  }
 },
 "nbformat": 4,
 "nbformat_minor": 4
}
